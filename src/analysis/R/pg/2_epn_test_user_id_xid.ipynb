{
 "cells": [
  {
   "cell_type": "code",
   "execution_count": 1,
   "metadata": {
    "collapsed": false
   },
   "outputs": [
    {
     "name": "stderr",
     "output_type": "stream",
     "text": [
      "Loading required package: DBI\n",
      "Loading required package: rJava\n",
      "------------------------------------------------------------------------------\n",
      "data.table + dplyr code now lives in dtplyr.\n",
      "Please library(dtplyr)!\n",
      "------------------------------------------------------------------------------\n",
      "\n",
      "Attaching package: ‘dplyr’\n",
      "\n",
      "The following objects are masked from ‘package:data.table’:\n",
      "\n",
      "    between, first, last\n",
      "\n",
      "The following objects are masked from ‘package:stats’:\n",
      "\n",
      "    filter, lag\n",
      "\n",
      "The following objects are masked from ‘package:base’:\n",
      "\n",
      "    intersect, setdiff, setequal, union\n",
      "\n",
      "\n",
      "Attaching package: ‘tidyr’\n",
      "\n",
      "The following object is masked from ‘package:magrittr’:\n",
      "\n",
      "    extract\n",
      "\n"
     ]
    }
   ],
   "source": [
    "setwd(\"~/projects/next_gen_attribution/src/analysis/R/pg\")\n",
    "\n",
    "source(\"~/R_connector/libraries.R\")\n",
    "#mozart <- connToEDW(dataBase = \"Mozart\", connType = 'normal', user = 'pgurican', pass=trimws(read_file(\"~/R_connector/p.txt\")))\n",
    "hopper <- connToEDW(dataBase = \"Hopper\", connType = 'normal', user = 'pgurican', pass=trimws(read_file(\"~/R_connector/p.txt\")))"
   ]
  },
  {
   "cell_type": "code",
   "execution_count": 94,
   "metadata": {
    "collapsed": false
   },
   "outputs": [
    {
     "data": {
      "text/html": [
       "<ol class=list-inline>\n",
       "\t<li>39.4</li>\n",
       "\t<li>2.3</li>\n",
       "\t<li>37.1</li>\n",
       "\t<li>0.5</li>\n",
       "\t<li>37.6</li>\n",
       "\t<li>60.1</li>\n",
       "</ol>\n"
      ],
      "text/latex": [
       "\\begin{enumerate*}\n",
       "\\item 39.4\n",
       "\\item 2.3\n",
       "\\item 37.1\n",
       "\\item 0.5\n",
       "\\item 37.6\n",
       "\\item 60.1\n",
       "\\end{enumerate*}\n"
      ],
      "text/markdown": [
       "1. 39.4\n",
       "2. 2.3\n",
       "3. 37.1\n",
       "4. 0.5\n",
       "5. 37.6\n",
       "6. 60.1\n",
       "\n",
       "\n"
      ],
      "text/plain": [
       "[1] 39.4  2.3 37.1  0.5 37.6 60.1"
      ]
     },
     "metadata": {},
     "output_type": "display_data"
    }
   ],
   "source": [
    "round(c(583706, 34009, 549697, 7181, 556878, 891596)/1482483*100, 1)"
   ]
  },
  {
   "cell_type": "code",
   "execution_count": 73,
   "metadata": {
    "collapsed": false
   },
   "outputs": [],
   "source": [
    "cguid_xid <- dbGetQuery(conn = hopper, \"select cguid, group_id, n_imps, cast(incdata_id as varchar(21)) from P_attribution_T.epn_cguid_to_xid_multiplicity\")"
   ]
  },
  {
   "cell_type": "code",
   "execution_count": 74,
   "metadata": {
    "collapsed": true
   },
   "outputs": [],
   "source": [
    "cguid_xid$group_id <- as.factor(cguid_xid$group_id)"
   ]
  },
  {
   "cell_type": "code",
   "execution_count": 75,
   "metadata": {
    "collapsed": false
   },
   "outputs": [
    {
     "data": {
      "text/html": [
       "<table>\n",
       "<thead><tr><th scope=col>cguid</th><th scope=col>group_id</th><th scope=col>n_imps</th><th scope=col>incdata_id</th></tr></thead>\n",
       "<tbody>\n",
       "\t<tr><td>f8e6c40f1540a7ea0af65576fe23110c</td><td>1                               </td><td>1                               </td><td>100000000001221685475           </td></tr>\n",
       "\t<tr><td>ec44473c15b0a99220d31392e5ac7ead</td><td>0                               </td><td>2                               </td><td>100000000001068394225           </td></tr>\n",
       "\t<tr><td>ca95d2b014d0a5f145112ae1f5d767f1</td><td>0                               </td><td>1                               </td><td>100000000000038830043           </td></tr>\n",
       "\t<tr><td>0b3a07ed1490a56b24074e77fbb28253</td><td>1                               </td><td>1                               </td><td>100000000000877813519           </td></tr>\n",
       "\t<tr><td>fa7001291580a99b5f536fbded5f275e</td><td>0                               </td><td>1                               </td><td>100000000001267804497           </td></tr>\n",
       "\t<tr><td>c45d422915b0aa48ee54ce8ef5677e30</td><td>0                               </td><td>1                               </td><td>100000000000045988994           </td></tr>\n",
       "</tbody>\n",
       "</table>\n"
      ],
      "text/latex": [
       "\\begin{tabular}{r|llll}\n",
       " cguid & group\\_id & n\\_imps & incdata\\_id\\\\\n",
       "\\hline\n",
       "\t f8e6c40f1540a7ea0af65576fe23110c & 1                                & 1                                & 100000000001221685475           \\\\\n",
       "\t ec44473c15b0a99220d31392e5ac7ead & 0                                & 2                                & 100000000001068394225           \\\\\n",
       "\t ca95d2b014d0a5f145112ae1f5d767f1 & 0                                & 1                                & 100000000000038830043           \\\\\n",
       "\t 0b3a07ed1490a56b24074e77fbb28253 & 1                                & 1                                & 100000000000877813519           \\\\\n",
       "\t fa7001291580a99b5f536fbded5f275e & 0                                & 1                                & 100000000001267804497           \\\\\n",
       "\t c45d422915b0aa48ee54ce8ef5677e30 & 0                                & 1                                & 100000000000045988994           \\\\\n",
       "\\end{tabular}\n"
      ],
      "text/markdown": [
       "\n",
       "cguid | group_id | n_imps | incdata_id | \n",
       "|---|---|---|---|---|---|\n",
       "| f8e6c40f1540a7ea0af65576fe23110c | 1                                | 1                                | 100000000001221685475            | \n",
       "| ec44473c15b0a99220d31392e5ac7ead | 0                                | 2                                | 100000000001068394225            | \n",
       "| ca95d2b014d0a5f145112ae1f5d767f1 | 0                                | 1                                | 100000000000038830043            | \n",
       "| 0b3a07ed1490a56b24074e77fbb28253 | 1                                | 1                                | 100000000000877813519            | \n",
       "| fa7001291580a99b5f536fbded5f275e | 0                                | 1                                | 100000000001267804497            | \n",
       "| c45d422915b0aa48ee54ce8ef5677e30 | 0                                | 1                                | 100000000000045988994            | \n",
       "\n",
       "\n"
      ],
      "text/plain": [
       "  cguid                            group_id n_imps incdata_id           \n",
       "1 f8e6c40f1540a7ea0af65576fe23110c 1        1      100000000001221685475\n",
       "2 ec44473c15b0a99220d31392e5ac7ead 0        2      100000000001068394225\n",
       "3 ca95d2b014d0a5f145112ae1f5d767f1 0        1      100000000000038830043\n",
       "4 0b3a07ed1490a56b24074e77fbb28253 1        1      100000000000877813519\n",
       "5 fa7001291580a99b5f536fbded5f275e 0        1      100000000001267804497\n",
       "6 c45d422915b0aa48ee54ce8ef5677e30 0        1      100000000000045988994"
      ]
     },
     "metadata": {},
     "output_type": "display_data"
    }
   ],
   "source": [
    "head(cguid_xid)"
   ]
  },
  {
   "cell_type": "code",
   "execution_count": 6,
   "metadata": {
    "collapsed": true
   },
   "outputs": [],
   "source": [
    "cguid_uid <- dbGetQuery(conn = hopper, \"select cguid, user_id, group_id, count(*) as cnt from P_FLEX_POOL_T.RAS_sessions group by 1,2,3\")"
   ]
  },
  {
   "cell_type": "code",
   "execution_count": 27,
   "metadata": {
    "collapsed": false
   },
   "outputs": [
    {
     "data": {
      "text/html": [
       "<table>\n",
       "<thead><tr><th scope=col>cguid</th><th scope=col>user_id</th><th scope=col>group_id</th><th scope=col>cnt</th></tr></thead>\n",
       "<tbody>\n",
       "\t<tr><td>b3430d4315d0ab6051a767e5f5f03e58</td><td>1679438143                      </td><td>1                               </td><td>  2                             </td></tr>\n",
       "\t<tr><td>3f37eab615b0a7e136f626f2feb1c3d3</td><td>1057760244                      </td><td>0                               </td><td> 85                             </td></tr>\n",
       "\t<tr><td>c46d19161430a5f164d29002fb6e67f4</td><td>1433934665                      </td><td>1                               </td><td>  3                             </td></tr>\n",
       "\t<tr><td>805e866015d0ab648cf5a337ff2f277c</td><td> 592639541                      </td><td>1                               </td><td> 17                             </td></tr>\n",
       "\t<tr><td>73a1101e15d0ab14ed830208f25145cf</td><td> 781710194                      </td><td>0                               </td><td> 37                             </td></tr>\n",
       "\t<tr><td>22d4f3c61580a887cc3726d9fa8fdc75</td><td>  25899920                      </td><td>0                               </td><td>219                             </td></tr>\n",
       "</tbody>\n",
       "</table>\n"
      ],
      "text/latex": [
       "\\begin{tabular}{r|llll}\n",
       " cguid & user\\_id & group\\_id & cnt\\\\\n",
       "\\hline\n",
       "\t b3430d4315d0ab6051a767e5f5f03e58 & 1679438143                       & 1                                &   2                             \\\\\n",
       "\t 3f37eab615b0a7e136f626f2feb1c3d3 & 1057760244                       & 0                                &  85                             \\\\\n",
       "\t c46d19161430a5f164d29002fb6e67f4 & 1433934665                       & 1                                &   3                             \\\\\n",
       "\t 805e866015d0ab648cf5a337ff2f277c &  592639541                       & 1                                &  17                             \\\\\n",
       "\t 73a1101e15d0ab14ed830208f25145cf &  781710194                       & 0                                &  37                             \\\\\n",
       "\t 22d4f3c61580a887cc3726d9fa8fdc75 &   25899920                       & 0                                & 219                             \\\\\n",
       "\\end{tabular}\n"
      ],
      "text/markdown": [
       "\n",
       "cguid | user_id | group_id | cnt | \n",
       "|---|---|---|---|---|---|\n",
       "| b3430d4315d0ab6051a767e5f5f03e58 | 1679438143                       | 1                                |   2                              | \n",
       "| 3f37eab615b0a7e136f626f2feb1c3d3 | 1057760244                       | 0                                |  85                              | \n",
       "| c46d19161430a5f164d29002fb6e67f4 | 1433934665                       | 1                                |   3                              | \n",
       "| 805e866015d0ab648cf5a337ff2f277c |  592639541                       | 1                                |  17                              | \n",
       "| 73a1101e15d0ab14ed830208f25145cf |  781710194                       | 0                                |  37                              | \n",
       "| 22d4f3c61580a887cc3726d9fa8fdc75 |   25899920                       | 0                                | 219                              | \n",
       "\n",
       "\n"
      ],
      "text/plain": [
       "  cguid                            user_id    group_id cnt\n",
       "1 b3430d4315d0ab6051a767e5f5f03e58 1679438143 1          2\n",
       "2 3f37eab615b0a7e136f626f2feb1c3d3 1057760244 0         85\n",
       "3 c46d19161430a5f164d29002fb6e67f4 1433934665 1          3\n",
       "4 805e866015d0ab648cf5a337ff2f277c  592639541 1         17\n",
       "5 73a1101e15d0ab14ed830208f25145cf  781710194 0         37\n",
       "6 22d4f3c61580a887cc3726d9fa8fdc75   25899920 0        219"
      ]
     },
     "metadata": {},
     "output_type": "display_data"
    }
   ],
   "source": [
    "head(cguid_uid %>% filter(!is.na(user_id)))"
   ]
  },
  {
   "cell_type": "code",
   "execution_count": 36,
   "metadata": {
    "collapsed": false
   },
   "outputs": [],
   "source": [
    "contaminated <- intersect((cguid_uid %>% filter(group_id == 0))$user_id,\n",
    "          (cguid_uid %>% filter(group_id == 1))$user_id)"
   ]
  },
  {
   "cell_type": "code",
   "execution_count": 37,
   "metadata": {
    "collapsed": false
   },
   "outputs": [],
   "source": [
    "cguid_uid %<>% filter(!is.na(user_id)) %>% filter(!(user_id %in% contaminated))"
   ]
  },
  {
   "cell_type": "code",
   "execution_count": 41,
   "metadata": {
    "collapsed": false
   },
   "outputs": [
    {
     "data": {
      "text/html": [
       "593173"
      ],
      "text/latex": [
       "593173"
      ],
      "text/markdown": [
       "593173"
      ],
      "text/plain": [
       "[1] 593173"
      ]
     },
     "metadata": {},
     "output_type": "display_data"
    }
   ],
   "source": [
    "nrow(cguid_uid)"
   ]
  },
  {
   "cell_type": "code",
   "execution_count": 14,
   "metadata": {
    "collapsed": false
   },
   "outputs": [
    {
     "name": "stderr",
     "output_type": "stream",
     "text": [
      "\n",
      "Attaching package: ‘scales’\n",
      "\n",
      "The following object is masked from ‘package:readr’:\n",
      "\n",
      "    col_factor\n",
      "\n"
     ]
    }
   ],
   "source": [
    "library(scales)"
   ]
  },
  {
   "cell_type": "code",
   "execution_count": 76,
   "metadata": {
    "collapsed": false
   },
   "outputs": [],
   "source": [
    "data <- cguid_xid %>% filter(group_id != \"-999\") %>% group_by(group_id, incdata_id) %>% summarise(cnt = n())"
   ]
  },
  {
   "cell_type": "code",
   "execution_count": 77,
   "metadata": {
    "collapsed": false
   },
   "outputs": [
    {
     "data": {
      "text/html": [
       "<table>\n",
       "<thead><tr><th scope=col>group_id</th><th scope=col>incdata_id</th><th scope=col>cnt</th></tr></thead>\n",
       "<tbody>\n",
       "\t<tr><td>0                    </td><td>100000000000000000002</td><td> 4                   </td></tr>\n",
       "\t<tr><td>0                    </td><td>100000000000000000003</td><td> 3                   </td></tr>\n",
       "\t<tr><td>0                    </td><td>100000000000000000004</td><td>10                   </td></tr>\n",
       "\t<tr><td>0                    </td><td>100000000000000000005</td><td> 6                   </td></tr>\n",
       "\t<tr><td>0                    </td><td>100000000000000000006</td><td> 4                   </td></tr>\n",
       "\t<tr><td>0                    </td><td>100000000000000000007</td><td> 4                   </td></tr>\n",
       "\t<tr><td>0                    </td><td>100000000000000000008</td><td>14                   </td></tr>\n",
       "\t<tr><td>0                    </td><td>100000000000000000009</td><td> 5                   </td></tr>\n",
       "\t<tr><td>0                    </td><td>100000000000000000010</td><td> 6                   </td></tr>\n",
       "\t<tr><td>0                    </td><td>100000000000000000011</td><td> 9                   </td></tr>\n",
       "\t<tr><td>0                    </td><td>100000000000000000012</td><td>10                   </td></tr>\n",
       "\t<tr><td>0                    </td><td>100000000000000000013</td><td> 4                   </td></tr>\n",
       "\t<tr><td>0                    </td><td>100000000000000000014</td><td> 7                   </td></tr>\n",
       "\t<tr><td>0                    </td><td>100000000000000000015</td><td> 2                   </td></tr>\n",
       "\t<tr><td>0                    </td><td>100000000000000000016</td><td> 3                   </td></tr>\n",
       "\t<tr><td>0                    </td><td>100000000000000000017</td><td> 3                   </td></tr>\n",
       "\t<tr><td>0                    </td><td>100000000000000000018</td><td> 2                   </td></tr>\n",
       "\t<tr><td>0                    </td><td>100000000000000000021</td><td> 2                   </td></tr>\n",
       "\t<tr><td>0                    </td><td>100000000000000000025</td><td> 1                   </td></tr>\n",
       "\t<tr><td>0                    </td><td>100000000000000000026</td><td> 1                   </td></tr>\n",
       "\t<tr><td>0                    </td><td>100000000000000000030</td><td> 1                   </td></tr>\n",
       "\t<tr><td>0                    </td><td>100000000000000000032</td><td> 1                   </td></tr>\n",
       "\t<tr><td>0                    </td><td>100000000000000000033</td><td> 1                   </td></tr>\n",
       "\t<tr><td>0                    </td><td>100000000000000000034</td><td> 1                   </td></tr>\n",
       "\t<tr><td>0                    </td><td>100000000000000000035</td><td> 1                   </td></tr>\n",
       "\t<tr><td>0                    </td><td>100000000000000000038</td><td> 2                   </td></tr>\n",
       "\t<tr><td>0                    </td><td>100000000000000000039</td><td> 1                   </td></tr>\n",
       "\t<tr><td>0                    </td><td>100000000000000000040</td><td> 2                   </td></tr>\n",
       "\t<tr><td>0                    </td><td>100000000000000000043</td><td> 3                   </td></tr>\n",
       "\t<tr><td>0                    </td><td>100000000000000000045</td><td> 2                   </td></tr>\n",
       "\t<tr><td>⋮</td><td>⋮</td><td>⋮</td></tr>\n",
       "\t<tr><td>1                    </td><td>100000000001684986170</td><td>1                    </td></tr>\n",
       "\t<tr><td>1                    </td><td>100000000001684987723</td><td>1                    </td></tr>\n",
       "\t<tr><td>1                    </td><td>100000000001684988437</td><td>1                    </td></tr>\n",
       "\t<tr><td>1                    </td><td>100000000001684991616</td><td>1                    </td></tr>\n",
       "\t<tr><td>1                    </td><td>100000000001684996277</td><td>1                    </td></tr>\n",
       "\t<tr><td>1                    </td><td>100000000001685009409</td><td>1                    </td></tr>\n",
       "\t<tr><td>1                    </td><td>100000000001685011613</td><td>1                    </td></tr>\n",
       "\t<tr><td>1                    </td><td>100000000001685015040</td><td>1                    </td></tr>\n",
       "\t<tr><td>1                    </td><td>100000000001685015196</td><td>1                    </td></tr>\n",
       "\t<tr><td>1                    </td><td>100000000001685018053</td><td>1                    </td></tr>\n",
       "\t<tr><td>1                    </td><td>100000000001685027843</td><td>1                    </td></tr>\n",
       "\t<tr><td>1                    </td><td>100000000001685038778</td><td>1                    </td></tr>\n",
       "\t<tr><td>1                    </td><td>100000000001685040926</td><td>1                    </td></tr>\n",
       "\t<tr><td>1                    </td><td>100000000001685044813</td><td>1                    </td></tr>\n",
       "\t<tr><td>1                    </td><td>100000000001685048205</td><td>1                    </td></tr>\n",
       "\t<tr><td>1                    </td><td>100000000001685051615</td><td>1                    </td></tr>\n",
       "\t<tr><td>1                    </td><td>100000000001685061178</td><td>1                    </td></tr>\n",
       "\t<tr><td>1                    </td><td>100000000001685069195</td><td>1                    </td></tr>\n",
       "\t<tr><td>1                    </td><td>100000000001685074652</td><td>1                    </td></tr>\n",
       "\t<tr><td>1                    </td><td>100000000001685079850</td><td>1                    </td></tr>\n",
       "\t<tr><td>1                    </td><td>100000000001685089304</td><td>1                    </td></tr>\n",
       "\t<tr><td>1                    </td><td>100000000001685090015</td><td>1                    </td></tr>\n",
       "\t<tr><td>1                    </td><td>100000000001685111509</td><td>1                    </td></tr>\n",
       "\t<tr><td>1                    </td><td>100000000001685128515</td><td>1                    </td></tr>\n",
       "\t<tr><td>1                    </td><td>100000000001685146556</td><td>1                    </td></tr>\n",
       "\t<tr><td>1                    </td><td>100000000001685157237</td><td>2                    </td></tr>\n",
       "\t<tr><td>1                    </td><td>100000000001685158362</td><td>1                    </td></tr>\n",
       "\t<tr><td>1                    </td><td>100000000001685180218</td><td>1                    </td></tr>\n",
       "\t<tr><td>1                    </td><td>100000000001685183508</td><td>1                    </td></tr>\n",
       "\t<tr><td>1                    </td><td>100000000001685187356</td><td>1                    </td></tr>\n",
       "</tbody>\n",
       "</table>\n"
      ],
      "text/latex": [
       "\\begin{tabular}{r|lll}\n",
       " group\\_id & incdata\\_id & cnt\\\\\n",
       "\\hline\n",
       "\t 0                     & 100000000000000000002 &  4                   \\\\\n",
       "\t 0                     & 100000000000000000003 &  3                   \\\\\n",
       "\t 0                     & 100000000000000000004 & 10                   \\\\\n",
       "\t 0                     & 100000000000000000005 &  6                   \\\\\n",
       "\t 0                     & 100000000000000000006 &  4                   \\\\\n",
       "\t 0                     & 100000000000000000007 &  4                   \\\\\n",
       "\t 0                     & 100000000000000000008 & 14                   \\\\\n",
       "\t 0                     & 100000000000000000009 &  5                   \\\\\n",
       "\t 0                     & 100000000000000000010 &  6                   \\\\\n",
       "\t 0                     & 100000000000000000011 &  9                   \\\\\n",
       "\t 0                     & 100000000000000000012 & 10                   \\\\\n",
       "\t 0                     & 100000000000000000013 &  4                   \\\\\n",
       "\t 0                     & 100000000000000000014 &  7                   \\\\\n",
       "\t 0                     & 100000000000000000015 &  2                   \\\\\n",
       "\t 0                     & 100000000000000000016 &  3                   \\\\\n",
       "\t 0                     & 100000000000000000017 &  3                   \\\\\n",
       "\t 0                     & 100000000000000000018 &  2                   \\\\\n",
       "\t 0                     & 100000000000000000021 &  2                   \\\\\n",
       "\t 0                     & 100000000000000000025 &  1                   \\\\\n",
       "\t 0                     & 100000000000000000026 &  1                   \\\\\n",
       "\t 0                     & 100000000000000000030 &  1                   \\\\\n",
       "\t 0                     & 100000000000000000032 &  1                   \\\\\n",
       "\t 0                     & 100000000000000000033 &  1                   \\\\\n",
       "\t 0                     & 100000000000000000034 &  1                   \\\\\n",
       "\t 0                     & 100000000000000000035 &  1                   \\\\\n",
       "\t 0                     & 100000000000000000038 &  2                   \\\\\n",
       "\t 0                     & 100000000000000000039 &  1                   \\\\\n",
       "\t 0                     & 100000000000000000040 &  2                   \\\\\n",
       "\t 0                     & 100000000000000000043 &  3                   \\\\\n",
       "\t 0                     & 100000000000000000045 &  2                   \\\\\n",
       "\t ⋮ & ⋮ & ⋮\\\\\n",
       "\t 1                     & 100000000001684986170 & 1                    \\\\\n",
       "\t 1                     & 100000000001684987723 & 1                    \\\\\n",
       "\t 1                     & 100000000001684988437 & 1                    \\\\\n",
       "\t 1                     & 100000000001684991616 & 1                    \\\\\n",
       "\t 1                     & 100000000001684996277 & 1                    \\\\\n",
       "\t 1                     & 100000000001685009409 & 1                    \\\\\n",
       "\t 1                     & 100000000001685011613 & 1                    \\\\\n",
       "\t 1                     & 100000000001685015040 & 1                    \\\\\n",
       "\t 1                     & 100000000001685015196 & 1                    \\\\\n",
       "\t 1                     & 100000000001685018053 & 1                    \\\\\n",
       "\t 1                     & 100000000001685027843 & 1                    \\\\\n",
       "\t 1                     & 100000000001685038778 & 1                    \\\\\n",
       "\t 1                     & 100000000001685040926 & 1                    \\\\\n",
       "\t 1                     & 100000000001685044813 & 1                    \\\\\n",
       "\t 1                     & 100000000001685048205 & 1                    \\\\\n",
       "\t 1                     & 100000000001685051615 & 1                    \\\\\n",
       "\t 1                     & 100000000001685061178 & 1                    \\\\\n",
       "\t 1                     & 100000000001685069195 & 1                    \\\\\n",
       "\t 1                     & 100000000001685074652 & 1                    \\\\\n",
       "\t 1                     & 100000000001685079850 & 1                    \\\\\n",
       "\t 1                     & 100000000001685089304 & 1                    \\\\\n",
       "\t 1                     & 100000000001685090015 & 1                    \\\\\n",
       "\t 1                     & 100000000001685111509 & 1                    \\\\\n",
       "\t 1                     & 100000000001685128515 & 1                    \\\\\n",
       "\t 1                     & 100000000001685146556 & 1                    \\\\\n",
       "\t 1                     & 100000000001685157237 & 2                    \\\\\n",
       "\t 1                     & 100000000001685158362 & 1                    \\\\\n",
       "\t 1                     & 100000000001685180218 & 1                    \\\\\n",
       "\t 1                     & 100000000001685183508 & 1                    \\\\\n",
       "\t 1                     & 100000000001685187356 & 1                    \\\\\n",
       "\\end{tabular}\n"
      ],
      "text/markdown": [
       "\n",
       "group_id | incdata_id | cnt | \n",
       "|---|---|---|---|---|---|---|---|---|---|---|---|---|---|---|---|---|---|---|---|---|---|---|---|---|---|---|---|---|---|---|---|---|---|---|---|---|---|---|---|---|---|---|---|---|---|---|---|---|---|---|---|---|---|---|---|---|---|---|---|---|\n",
       "| 0                     | 100000000000000000002 |  4                    | \n",
       "| 0                     | 100000000000000000003 |  3                    | \n",
       "| 0                     | 100000000000000000004 | 10                    | \n",
       "| 0                     | 100000000000000000005 |  6                    | \n",
       "| 0                     | 100000000000000000006 |  4                    | \n",
       "| 0                     | 100000000000000000007 |  4                    | \n",
       "| 0                     | 100000000000000000008 | 14                    | \n",
       "| 0                     | 100000000000000000009 |  5                    | \n",
       "| 0                     | 100000000000000000010 |  6                    | \n",
       "| 0                     | 100000000000000000011 |  9                    | \n",
       "| 0                     | 100000000000000000012 | 10                    | \n",
       "| 0                     | 100000000000000000013 |  4                    | \n",
       "| 0                     | 100000000000000000014 |  7                    | \n",
       "| 0                     | 100000000000000000015 |  2                    | \n",
       "| 0                     | 100000000000000000016 |  3                    | \n",
       "| 0                     | 100000000000000000017 |  3                    | \n",
       "| 0                     | 100000000000000000018 |  2                    | \n",
       "| 0                     | 100000000000000000021 |  2                    | \n",
       "| 0                     | 100000000000000000025 |  1                    | \n",
       "| 0                     | 100000000000000000026 |  1                    | \n",
       "| 0                     | 100000000000000000030 |  1                    | \n",
       "| 0                     | 100000000000000000032 |  1                    | \n",
       "| 0                     | 100000000000000000033 |  1                    | \n",
       "| 0                     | 100000000000000000034 |  1                    | \n",
       "| 0                     | 100000000000000000035 |  1                    | \n",
       "| 0                     | 100000000000000000038 |  2                    | \n",
       "| 0                     | 100000000000000000039 |  1                    | \n",
       "| 0                     | 100000000000000000040 |  2                    | \n",
       "| 0                     | 100000000000000000043 |  3                    | \n",
       "| 0                     | 100000000000000000045 |  2                    | \n",
       "| ⋮ | ⋮ | ⋮ | \n",
       "| 1                     | 100000000001684986170 | 1                     | \n",
       "| 1                     | 100000000001684987723 | 1                     | \n",
       "| 1                     | 100000000001684988437 | 1                     | \n",
       "| 1                     | 100000000001684991616 | 1                     | \n",
       "| 1                     | 100000000001684996277 | 1                     | \n",
       "| 1                     | 100000000001685009409 | 1                     | \n",
       "| 1                     | 100000000001685011613 | 1                     | \n",
       "| 1                     | 100000000001685015040 | 1                     | \n",
       "| 1                     | 100000000001685015196 | 1                     | \n",
       "| 1                     | 100000000001685018053 | 1                     | \n",
       "| 1                     | 100000000001685027843 | 1                     | \n",
       "| 1                     | 100000000001685038778 | 1                     | \n",
       "| 1                     | 100000000001685040926 | 1                     | \n",
       "| 1                     | 100000000001685044813 | 1                     | \n",
       "| 1                     | 100000000001685048205 | 1                     | \n",
       "| 1                     | 100000000001685051615 | 1                     | \n",
       "| 1                     | 100000000001685061178 | 1                     | \n",
       "| 1                     | 100000000001685069195 | 1                     | \n",
       "| 1                     | 100000000001685074652 | 1                     | \n",
       "| 1                     | 100000000001685079850 | 1                     | \n",
       "| 1                     | 100000000001685089304 | 1                     | \n",
       "| 1                     | 100000000001685090015 | 1                     | \n",
       "| 1                     | 100000000001685111509 | 1                     | \n",
       "| 1                     | 100000000001685128515 | 1                     | \n",
       "| 1                     | 100000000001685146556 | 1                     | \n",
       "| 1                     | 100000000001685157237 | 2                     | \n",
       "| 1                     | 100000000001685158362 | 1                     | \n",
       "| 1                     | 100000000001685180218 | 1                     | \n",
       "| 1                     | 100000000001685183508 | 1                     | \n",
       "| 1                     | 100000000001685187356 | 1                     | \n",
       "\n",
       "\n"
      ],
      "text/plain": [
       "        group_id incdata_id            cnt\n",
       "1       0        100000000000000000002  4 \n",
       "2       0        100000000000000000003  3 \n",
       "3       0        100000000000000000004 10 \n",
       "4       0        100000000000000000005  6 \n",
       "5       0        100000000000000000006  4 \n",
       "6       0        100000000000000000007  4 \n",
       "7       0        100000000000000000008 14 \n",
       "8       0        100000000000000000009  5 \n",
       "9       0        100000000000000000010  6 \n",
       "10      0        100000000000000000011  9 \n",
       "11      0        100000000000000000012 10 \n",
       "12      0        100000000000000000013  4 \n",
       "13      0        100000000000000000014  7 \n",
       "14      0        100000000000000000015  2 \n",
       "15      0        100000000000000000016  3 \n",
       "16      0        100000000000000000017  3 \n",
       "17      0        100000000000000000018  2 \n",
       "18      0        100000000000000000021  2 \n",
       "19      0        100000000000000000025  1 \n",
       "20      0        100000000000000000026  1 \n",
       "21      0        100000000000000000030  1 \n",
       "22      0        100000000000000000032  1 \n",
       "23      0        100000000000000000033  1 \n",
       "24      0        100000000000000000034  1 \n",
       "25      0        100000000000000000035  1 \n",
       "26      0        100000000000000000038  2 \n",
       "27      0        100000000000000000039  1 \n",
       "28      0        100000000000000000040  2 \n",
       "29      0        100000000000000000043  3 \n",
       "30      0        100000000000000000045  2 \n",
       "⋮       ⋮        ⋮                     ⋮  \n",
       "2552714 1        100000000001684986170 1  \n",
       "2552715 1        100000000001684987723 1  \n",
       "2552716 1        100000000001684988437 1  \n",
       "2552717 1        100000000001684991616 1  \n",
       "2552718 1        100000000001684996277 1  \n",
       "2552719 1        100000000001685009409 1  \n",
       "2552720 1        100000000001685011613 1  \n",
       "2552721 1        100000000001685015040 1  \n",
       "2552722 1        100000000001685015196 1  \n",
       "2552723 1        100000000001685018053 1  \n",
       "2552724 1        100000000001685027843 1  \n",
       "2552725 1        100000000001685038778 1  \n",
       "2552726 1        100000000001685040926 1  \n",
       "2552727 1        100000000001685044813 1  \n",
       "2552728 1        100000000001685048205 1  \n",
       "2552729 1        100000000001685051615 1  \n",
       "2552730 1        100000000001685061178 1  \n",
       "2552731 1        100000000001685069195 1  \n",
       "2552732 1        100000000001685074652 1  \n",
       "2552733 1        100000000001685079850 1  \n",
       "2552734 1        100000000001685089304 1  \n",
       "2552735 1        100000000001685090015 1  \n",
       "2552736 1        100000000001685111509 1  \n",
       "2552737 1        100000000001685128515 1  \n",
       "2552738 1        100000000001685146556 1  \n",
       "2552739 1        100000000001685157237 2  \n",
       "2552740 1        100000000001685158362 1  \n",
       "2552741 1        100000000001685180218 1  \n",
       "2552742 1        100000000001685183508 1  \n",
       "2552743 1        100000000001685187356 1  "
      ]
     },
     "metadata": {},
     "output_type": "display_data"
    }
   ],
   "source": [
    "data"
   ]
  },
  {
   "cell_type": "code",
   "execution_count": 91,
   "metadata": {
    "collapsed": false
   },
   "outputs": [
    {
     "data": {},
     "metadata": {},
     "output_type": "display_data"
    },
    {
     "data": {
      "image/png": "[encoded data removed]",
      "text/plain": [
       "plot without title"
      ]
     },
     "metadata": {},
     "output_type": "display_data"
    }
   ],
   "source": [
    "ggplot(data %>% filter(cnt <= quantile(cnt, .999))) +\n",
    "    geom_histogram(aes(x = cnt, \n",
    "                       y = ..density.., \n",
    "                       group = group_id, \n",
    "                       fill = group_id),\n",
    "                   alpha= 0.5,\n",
    "                   position=\"dodge\",\n",
    "                  bins = 5)"
   ]
  },
  {
   "cell_type": "code",
   "execution_count": 89,
   "metadata": {
    "collapsed": false
   },
   "outputs": [
    {
     "data": {
      "text/html": [
       "<strong>99.9%:</strong> 5"
      ],
      "text/latex": [
       "\\textbf{99.9\\textbackslash{}\\%:} 5"
      ],
      "text/markdown": [
       "**99.9%:** 5"
      ],
      "text/plain": [
       "99.9% \n",
       "    5 "
      ]
     },
     "metadata": {},
     "output_type": "display_data"
    }
   ],
   "source": [
    "quantile(data$cnt, .999)"
   ]
  },
  {
   "cell_type": "code",
   "execution_count": 79,
   "metadata": {
    "collapsed": false
   },
   "outputs": [
    {
     "data": {
      "text/plain": [
       "   Min. 1st Qu.  Median    Mean 3rd Qu.    Max. \n",
       "  1.000   1.000   1.000   1.124   1.000 685.000 "
      ]
     },
     "metadata": {},
     "output_type": "display_data"
    }
   ],
   "source": [
    "summary((data %>% filter(group_id == \"0\"))$cnt)"
   ]
  },
  {
   "cell_type": "code",
   "execution_count": 80,
   "metadata": {
    "collapsed": false
   },
   "outputs": [
    {
     "data": {
      "text/plain": [
       "   Min. 1st Qu.  Median    Mean 3rd Qu.    Max. \n",
       "  1.000   1.000   1.000   1.183   1.000 922.000 "
      ]
     },
     "metadata": {},
     "output_type": "display_data"
    }
   ],
   "source": [
    "summary((data %>% filter(group_id == \"1\"))$cnt)"
   ]
  },
  {
   "cell_type": "code",
   "execution_count": 81,
   "metadata": {
    "collapsed": false
   },
   "outputs": [
    {
     "data": {
      "text/html": [
       "2282106"
      ],
      "text/latex": [
       "2282106"
      ],
      "text/markdown": [
       "2282106"
      ],
      "text/plain": [
       "[1] 2282106"
      ]
     },
     "metadata": {},
     "output_type": "display_data"
    }
   ],
   "source": [
    "length(unique(data$incdata_id))"
   ]
  },
  {
   "cell_type": "code",
   "execution_count": 82,
   "metadata": {
    "collapsed": false
   },
   "outputs": [
    {
     "data": {
      "text/html": [
       "583706"
      ],
      "text/latex": [
       "583706"
      ],
      "text/markdown": [
       "583706"
      ],
      "text/plain": [
       "[1] 583706"
      ]
     },
     "metadata": {},
     "output_type": "display_data"
    }
   ],
   "source": [
    "length(unique(cguid_xid$cguid))"
   ]
  }
 ],
 "metadata": {
  "kernelspec": {
   "display_name": "R",
   "language": "R",
   "name": "ir"
  },
  "language_info": {
   "codemirror_mode": "r",
   "file_extension": ".r",
   "mimetype": "text/x-r-source",
   "name": "R",
   "pygments_lexer": "r",
   "version": "3.4.1"
  }
 },
 "nbformat": 4,
 "nbformat_minor": 2
}
