{
 "cells": [
  {
   "cell_type": "code",
   "execution_count": 1,
   "metadata": {
    "collapsed": true
   },
   "outputs": [
    {
     "name": "stderr",
     "output_type": "stream",
     "text": [
      "Loading required package: DBI\n",
      "Loading required package: rJava\n",
      "------------------------------------------------------------------------------\n",
      "data.table + dplyr code now lives in dtplyr.\n",
      "Please library(dtplyr)!\n",
      "------------------------------------------------------------------------------\n",
      "\n",
      "Attaching package: ‘dplyr’\n",
      "\n",
      "The following objects are masked from ‘package:data.table’:\n",
      "\n",
      "    between, first, last\n",
      "\n",
      "The following objects are masked from ‘package:stats’:\n",
      "\n",
      "    filter, lag\n",
      "\n",
      "The following objects are masked from ‘package:base’:\n",
      "\n",
      "    intersect, setdiff, setequal, union\n",
      "\n",
      "\n",
      "Attaching package: ‘tidyr’\n",
      "\n",
      "The following object is masked from ‘package:magrittr’:\n",
      "\n",
      "    extract\n",
      "\n"
     ]
    }
   ],
   "source": [
    "setwd(\"~/projects/next_gen_attribution/src/analysis/R/pg\")\n",
    "\n",
    "source(\"~/R_connector/libraries.R\")\n",
    "#mozart <- connToEDW(dataBase = \"Mozart\", connType = 'normal', user = 'pgurican', pass=trimws(read_file(\"~/R_connector/p.txt\")))\n",
    "hopper <- connToEDW(dataBase = \"Hopper\", connType = 'normal', user = 'pgurican', pass=trimws(read_file(\"~/R_connector/p.txt\")))"
   ]
  },
  {
   "cell_type": "code",
   "execution_count": 13,
   "metadata": {
    "collapsed": false
   },
   "outputs": [],
   "source": [
    "q <-  \"select pblshr_id as pblshr_id, \n",
    "group_id, \n",
    "count(*) as no_clicks\n",
    "from p_flex_pool_t.ams_clicks_on_test\n",
    "group by PBLSHR_ID, group_id\n",
    "\"\n",
    "\n",
    "counts_publishers <- dbGetQuery(conn = hopper, q)"
   ]
  },
  {
   "cell_type": "code",
   "execution_count": 29,
   "metadata": {
    "collapsed": false
   },
   "outputs": [],
   "source": [
    "counts_publishers %<>% arrange(desc(no_clicks), pblshr_id, group_id) %>% filter(group_id >= 0)"
   ]
  },
  {
   "cell_type": "code",
   "execution_count": 30,
   "metadata": {
    "collapsed": false
   },
   "outputs": [
    {
     "data": {
      "text/html": [
       "<table>\n",
       "<thead><tr><th scope=col>pblshr_id</th><th scope=col>group_id</th><th scope=col>no_clicks</th></tr></thead>\n",
       "<tbody>\n",
       "\t<tr><td>5574971870</td><td>1         </td><td>261512    </td></tr>\n",
       "\t<tr><td>5574862062</td><td>1         </td><td> 63654    </td></tr>\n",
       "\t<tr><td>5574862062</td><td>0         </td><td> 47684    </td></tr>\n",
       "\t<tr><td>5575086808</td><td>1         </td><td> 45465    </td></tr>\n",
       "\t<tr><td>5574867444</td><td>1         </td><td> 35749    </td></tr>\n",
       "\t<tr><td>5575086808</td><td>0         </td><td> 35005    </td></tr>\n",
       "</tbody>\n",
       "</table>\n"
      ],
      "text/latex": [
       "\\begin{tabular}{r|lll}\n",
       " pblshr\\_id & group\\_id & no\\_clicks\\\\\n",
       "\\hline\n",
       "\t 5574971870 & 1          & 261512    \\\\\n",
       "\t 5574862062 & 1          &  63654    \\\\\n",
       "\t 5574862062 & 0          &  47684    \\\\\n",
       "\t 5575086808 & 1          &  45465    \\\\\n",
       "\t 5574867444 & 1          &  35749    \\\\\n",
       "\t 5575086808 & 0          &  35005    \\\\\n",
       "\\end{tabular}\n"
      ],
      "text/markdown": [
       "\n",
       "pblshr_id | group_id | no_clicks | \n",
       "|---|---|---|---|---|---|\n",
       "| 5574971870 | 1          | 261512     | \n",
       "| 5574862062 | 1          |  63654     | \n",
       "| 5574862062 | 0          |  47684     | \n",
       "| 5575086808 | 1          |  45465     | \n",
       "| 5574867444 | 1          |  35749     | \n",
       "| 5575086808 | 0          |  35005     | \n",
       "\n",
       "\n"
      ],
      "text/plain": [
       "  pblshr_id  group_id no_clicks\n",
       "1 5574971870 1        261512   \n",
       "2 5574862062 1         63654   \n",
       "3 5574862062 0         47684   \n",
       "4 5575086808 1         45465   \n",
       "5 5574867444 1         35749   \n",
       "6 5575086808 0         35005   "
      ]
     },
     "metadata": {},
     "output_type": "display_data"
    }
   ],
   "source": [
    "head(counts_publishers)"
   ]
  },
  {
   "cell_type": "code",
   "execution_count": 35,
   "metadata": {
    "collapsed": false
   },
   "outputs": [],
   "source": [
    "counts_publishers %<>% spread(key = pblshr_id, value = no_clicks, fill = 0) %>% \n",
    "    gather(pblshr_id, no_clicks, -group_id, convert = TRUE) %>% \n",
    "    arrange(desc(no_clicks), pblshr_id, group_id) "
   ]
  },
  {
   "cell_type": "code",
   "execution_count": 37,
   "metadata": {
    "collapsed": false
   },
   "outputs": [],
   "source": [
    "eligible_publishers <- (counts_publishers %>% group_by(pblshr_id) %>% summarise(no_clicks = sum(no_clicks)) %>% filter(no_clicks >= 5000))$pblshr_id"
   ]
  },
  {
   "cell_type": "code",
   "execution_count": 40,
   "metadata": {
    "collapsed": false
   },
   "outputs": [],
   "source": [
    "top_publishers <- paste(eligible_publishers, sep = \"\", collapse = \", \")"
   ]
  },
  {
   "cell_type": "code",
   "execution_count": 44,
   "metadata": {
    "collapsed": true
   },
   "outputs": [],
   "source": [
    "q2 <- paste(\"\n",
    "select \n",
    "click_id,\n",
    "crltn_guid_txt as cguid,\n",
    "pblshr_id,\n",
    "ams_pblshr_cmpgn_id,\n",
    "click_dt,\n",
    "group_id\n",
    "\n",
    "from PRS_AMS_V.AMS_CLICK A\n",
    "inner join P_FLEX_POOL_T.RAS_impressions_cguids B\n",
    "ON A.crltn_guid_txt = B.cguid\n",
    "\n",
    "where click_dt between \\'2017-06-01\\' and \\'2017-09-30\\'\n",
    "and pblshr_id in (\",\n",
    "top_publishers, \")\", sep = \"\")"
   ]
  },
  {
   "cell_type": "code",
   "execution_count": 43,
   "metadata": {
    "collapsed": false
   },
   "outputs": [
    {
     "ename": "ERROR",
     "evalue": "Error in .verify.JDBC.result(r, \"Unable to retrieve JDBC result set for \", : Unable to retrieve JDBC result set for \nselect \nclick_id,\ncrltn_guid_txt as cguid,\npblshr_id,\nams_pblshr_cmpgn_id,\nclick_dt,\ngroup_id\n\nfrom PRS_AMS_V.AMS_CLICK A\ninner join P_FLEX_POOL_T.RAS_impressions_cguids B\nON A.crltn_guid_txt = B.cguid\n\nwhere click_dt between '2017-08-27' and '2017-09-03'\nwhere pblshr_id in (5574635388, 5574672411, 5574717700, 5574735181, 5574862062, 5574867444, 5574959657, 5574971870, 5575023613, 5575023814, 5575086808, 5575089079, 5575153109, 5575154502, 5575176189, 5575219704, 5575279547)\n ([Teradata Database] [TeraJDBC 15.10.00.14] [Error 3733] [SQLState 42000] The SELECT has more than one WHERE clause.)\n",
     "output_type": "error",
     "traceback": [
      "Error in .verify.JDBC.result(r, \"Unable to retrieve JDBC result set for \", : Unable to retrieve JDBC result set for \nselect \nclick_id,\ncrltn_guid_txt as cguid,\npblshr_id,\nams_pblshr_cmpgn_id,\nclick_dt,\ngroup_id\n\nfrom PRS_AMS_V.AMS_CLICK A\ninner join P_FLEX_POOL_T.RAS_impressions_cguids B\nON A.crltn_guid_txt = B.cguid\n\nwhere click_dt between '2017-08-27' and '2017-09-03'\nwhere pblshr_id in (5574635388, 5574672411, 5574717700, 5574735181, 5574862062, 5574867444, 5574959657, 5574971870, 5575023613, 5575023814, 5575086808, 5575089079, 5575153109, 5575154502, 5575176189, 5575219704, 5575279547)\n ([Teradata Database] [TeraJDBC 15.10.00.14] [Error 3733] [SQLState 42000] The SELECT has more than one WHERE clause.)\nTraceback:\n",
      "1. dbGetQuery(conn = hopper, q2)",
      "2. dbGetQuery(conn = hopper, q2)",
      "3. dbSendQuery(conn, statement, ...)",
      "4. dbSendQuery(conn, statement, ...)",
      "5. .local(conn, statement, ...)",
      "6. .verify.JDBC.result(r, \"Unable to retrieve JDBC result set for \", \n .     statement)",
      "7. stop(..., \" (\", .jcall(x, \"S\", \"getMessage\"), \")\")"
     ]
    }
   ],
   "source": [
    "epn_sessions <- dbGetQuery(conn = hopper, q2)"
   ]
  },
  {
   "cell_type": "code",
   "execution_count": null,
   "metadata": {
    "collapsed": true
   },
   "outputs": [],
   "source": []
  }
 ],
 "metadata": {
  "kernelspec": {
   "display_name": "R",
   "language": "R",
   "name": "ir"
  },
  "language_info": {
   "codemirror_mode": "r",
   "file_extension": ".r",
   "mimetype": "text/x-r-source",
   "name": "R",
   "pygments_lexer": "r",
   "version": "3.4.1"
  }
 },
 "nbformat": 4,
 "nbformat_minor": 2
}
